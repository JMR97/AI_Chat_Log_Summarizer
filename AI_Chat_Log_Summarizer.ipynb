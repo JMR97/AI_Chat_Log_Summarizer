{
  "nbformat": 4,
  "nbformat_minor": 0,
  "metadata": {
    "colab": {
      "provenance": [],
      "toc_visible": true,
      "authorship_tag": "ABX9TyPxCr5XCylh0pFcoTg9KGho",
      "include_colab_link": true
    },
    "kernelspec": {
      "name": "python3",
      "display_name": "Python 3"
    },
    "language_info": {
      "name": "python"
    }
  },
  "cells": [
    {
      "cell_type": "markdown",
      "metadata": {
        "id": "view-in-github",
        "colab_type": "text"
      },
      "source": [
        "<a href=\"https://colab.research.google.com/github/JMR97/AI_Chat_Log_Summarizer/blob/main/AI_Chat_Log_Summarizer.ipynb\" target=\"_parent\"><img src=\"https://colab.research.google.com/assets/colab-badge.svg\" alt=\"Open In Colab\"/></a>"
      ]
    },
    {
      "cell_type": "code",
      "execution_count": null,
      "metadata": {
        "id": "J-_dIROPWh95"
      },
      "outputs": [],
      "source": []
    },
    {
      "cell_type": "code",
      "source": [
        "import nltk\n",
        "from nltk.corpus import stopwords\n",
        "from collections import Counter\n",
        "import re\n"
      ],
      "metadata": {
        "id": "KIY5OYMwWkd4"
      },
      "execution_count": null,
      "outputs": []
    },
    {
      "cell_type": "code",
      "source": [
        "#Parse Chat Log\n",
        "\n",
        "nltk.download('stopwords')\n",
        "def parse_chat(file_path):\n",
        "    with open(file_path, 'r') as f:\n",
        "        lines = f.readlines()\n",
        "\n",
        "    user_msgs = []\n",
        "    ai_msgs = []\n",
        "\n",
        "    for line in lines:\n",
        "        line = line.strip()\n",
        "        if line.startswith(\"User:\"):\n",
        "            user_msgs.append(line.replace(\"User:\", \"\").strip())\n",
        "        elif line.startswith(\"AI:\"):\n",
        "            ai_msgs.append(line.replace(\"AI:\", \"\").strip())\n",
        "\n",
        "    return user_msgs, ai_msgs\n"
      ],
      "metadata": {
        "colab": {
          "base_uri": "https://localhost:8080/"
        },
        "id": "3sX_5taZWkYJ",
        "outputId": "22a0e82f-4479-4d4e-eb48-c64fce86050f"
      },
      "execution_count": null,
      "outputs": [
        {
          "output_type": "stream",
          "name": "stderr",
          "text": [
            "[nltk_data] Downloading package stopwords to /root/nltk_data...\n",
            "[nltk_data]   Unzipping corpora/stopwords.zip.\n"
          ]
        }
      ]
    },
    {
      "cell_type": "code",
      "source": [
        "#Message Statistics\n",
        "def message_stats(user_msgs, ai_msgs):\n",
        "    total = len(user_msgs) + len(ai_msgs)\n",
        "    return total, len(user_msgs), len(ai_msgs)\n"
      ],
      "metadata": {
        "id": "8Tl-n27-WkRx"
      },
      "execution_count": null,
      "outputs": []
    },
    {
      "cell_type": "code",
      "source": [
        "#Keyword Extraction\n",
        "def extract_keywords(messages, top_n=5):\n",
        "    stop_words = set(stopwords.words('english'))\n",
        "    words = re.findall(r'\\b\\w+\\b', ' '.join(messages).lower())\n",
        "    filtered_words = [w for w in words if w not in stop_words]\n",
        "    return [word for word, _ in Counter(filtered_words).most_common(top_n)]\n"
      ],
      "metadata": {
        "id": "4-KxGpK9WkEr"
      },
      "execution_count": null,
      "outputs": []
    },
    {
      "cell_type": "code",
      "source": [
        "#Generate Summary\n",
        "\n",
        "def generate_summary(user_msgs, ai_msgs):\n",
        "    total, user_count, ai_count = message_stats(user_msgs, ai_msgs)\n",
        "    keywords = extract_keywords(user_msgs + ai_msgs)\n",
        "\n",
        "    print(\"Summary:\")\n",
        "    print(f\"- The conversation had {total} exchanges.\")\n",
        "    print(f\"- Messages from User: {user_count}, AI: {ai_count}\")\n",
        "    print(f\"- Most common keywords: {', '.join(keywords)}\")\n"
      ],
      "metadata": {
        "id": "_r9CM4dKW3F9"
      },
      "execution_count": null,
      "outputs": []
    },
    {
      "cell_type": "code",
      "source": [
        "#main function\n",
        "\n",
        "if __name__ == \"__main__\":\n",
        "    user_msgs, ai_msgs = parse_chat(\"conversation.txt\")\n",
        "    generate_summary(user_msgs, ai_msgs)\n"
      ],
      "metadata": {
        "colab": {
          "base_uri": "https://localhost:8080/"
        },
        "id": "WmuqVNEwW3AB",
        "outputId": "1e4c9bad-59d1-430f-b51c-1953523f5feb"
      },
      "execution_count": 14,
      "outputs": [
        {
          "output_type": "stream",
          "name": "stdout",
          "text": [
            "Summary:\n",
            "- The conversation had 5 exchanges.\n",
            "- Messages from User: 3, AI: 2\n",
            "- Most common keywords: python, use, hi, tell, ok\n"
          ]
        }
      ]
    },
    {
      "cell_type": "code",
      "source": [
        "\n",
        "import os\n",
        "\n",
        "def summarize_folder(folder_path):\n",
        "    # Check if the folder exists before attempting to list its contents\n",
        "    if not os.path.isdir(folder_path):\n",
        "        print(f\"Error: Folder not found at '{folder_path}'\")\n",
        "        return # Exit the function if the folder doesn't exist\n",
        "\n",
        "    for filename in os.listdir(folder_path):\n",
        "        # There's a typo here: fithlename should be filename and endswi should be endswith\n",
        "        if filename.endswith(\".txt\"):\n",
        "            print(f\"\\n== Summary for {filename} ==\")\n",
        "            user_msgs, ai_msgs = parse_chat(os.path.join(folder_path, filename))\n",
        "            generate_summary(user_msgs, ai_msgs)\n",
        "\n"
      ],
      "metadata": {
        "id": "XoSxgj9FZcZp"
      },
      "execution_count": 20,
      "outputs": []
    },
    {
      "cell_type": "code",
      "source": [
        "path=\"/Users/jmr/Desktop/conver/\"\n",
        "summarize_folder(path)"
      ],
      "metadata": {
        "colab": {
          "base_uri": "https://localhost:8080/"
        },
        "id": "_KA7kGAoZcRN",
        "outputId": "59d93e07-4c37-4f04-f71d-723586acc6cb"
      },
      "execution_count": 21,
      "outputs": [
        {
          "output_type": "stream",
          "name": "stdout",
          "text": [
            "Error: Folder not found at '/Users/jmr/Desktop/conver/'\n"
          ]
        }
      ]
    }
  ]
}